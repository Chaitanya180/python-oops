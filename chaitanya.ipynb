{
 "cells": [
  {
   "cell_type": "markdown",
   "id": "12c4f3c9-fd9a-4724-8b48-e81240065471",
   "metadata": {},
   "source": [
    "Q1. Explain Class and Object with respect to Object-Oriented Programming. Give a suitable example.\n"
   ]
  },
  {
   "cell_type": "markdown",
   "id": "ea4f0a50-638b-49b2-9368-ae9a17868d05",
   "metadata": {},
   "source": [
    "In object-oriented programming, a class is a blueprint or a template that defines a set of properties and methods that a particular type of object can have. An object is an instance of a class, created using the class blueprint, that has specific values assigned to its properties.\n",
    "\n",
    "For example, let's say we want to create a class for a car. The class would define the properties of a car such as color, make, model, and year. The class would also define methods, such as drive() and stop(), which can be performed on the car. Once the class is defined, we can create objects of the car class with specific values for each property. For example, we can create an object of the car class named my_car with a red color, a make of Toyota, a model of Camry, and a year of 2021."
   ]
  },
  {
   "cell_type": "markdown",
   "id": "2643e64d-aceb-4758-a1e5-7313aaaa0bd7",
   "metadata": {},
   "source": [
    "Q2. Name the four pillars of OOPs."
   ]
  },
  {
   "cell_type": "markdown",
   "id": "13ef9d3f-9ec2-4d94-af16-04001c27de41",
   "metadata": {},
   "source": [
    "The four pillars of object-oriented programming are:\n",
    "\n",
    "Encapsulation: Encapsulation is the process of hiding the internal implementation details of an object from the outside world, and exposing only the necessary properties and methods for external use.\n",
    "\n",
    "Abstraction: Abstraction refers to the process of modeling complex real-world systems using simpler, more generalized concepts. It allows us to focus on the essential features of a system, while ignoring the irrelevant details.\n",
    "\n",
    "Inheritance: Inheritance is the process of creating new classes based on existing classes. Inheritance allows new classes to inherit the properties and methods of existing classes, and to add or override them as needed.\n",
    "\n",
    "Polymorphism: Polymorphism allows objects of different types to be treated as if they were of the same type. It allows us to write more flexible and generic code, and to create code that can work with a variety of different types of objects.\n"
   ]
  },
  {
   "cell_type": "markdown",
   "id": "cb7bbd8a-9fe3-4e27-a809-c68df76b3946",
   "metadata": {},
   "source": [
    "Q3. Explain why the __init__() function is used. Give a suitable example."
   ]
  },
  {
   "cell_type": "markdown",
   "id": "63cd07be-b246-433c-ab3e-815f397d28c4",
   "metadata": {},
   "source": [
    "The init() function is a special method in Python that is automatically called when an object is created. It is used to initialize the properties of an object to specific values.\n",
    "\n",
    "For example, let's say we have a class called Person with properties such as name, age, and address. We can use the init() method to set these properties when a new Person object is created."
   ]
  },
  {
   "cell_type": "code",
   "execution_count": 3,
   "id": "9d3320b3-d400-4408-82c2-7bbd05c2f1e8",
   "metadata": {},
   "outputs": [],
   "source": [
    "class Person:\n",
    "    def __init__(self, name, age, address):\n",
    "        self.name = name\n",
    "        self.age = age\n",
    "        self.address = address\n"
   ]
  },
  {
   "cell_type": "code",
   "execution_count": 5,
   "id": "d2f8dc53-4848-4f73-8f01-04fd6c235d91",
   "metadata": {},
   "outputs": [],
   "source": [
    "chaitanya = Person(\"chaitanya\",19,\"add\")"
   ]
  },
  {
   "cell_type": "code",
   "execution_count": 6,
   "id": "3be790a7-d6f0-4790-8a86-00fa3c3d2172",
   "metadata": {},
   "outputs": [
    {
     "data": {
      "text/plain": [
       "19"
      ]
     },
     "execution_count": 6,
     "metadata": {},
     "output_type": "execute_result"
    }
   ],
   "source": [
    "chaitanya.age"
   ]
  },
  {
   "cell_type": "markdown",
   "id": "2c2ece0a-162c-473d-95af-74920cc6c51c",
   "metadata": {},
   "source": [
    "Q4. Why self is used in OOPs?"
   ]
  },
  {
   "cell_type": "markdown",
   "id": "d2807d9e-eb8a-4535-93b5-e4fec5a30d98",
   "metadata": {},
   "source": [
    "In object-oriented programming, self is used to refer to the current instance of a class. It is a reference to the object that the method is being called on. By using the self keyword, we can access the properties and methods of the current instance of the class."
   ]
  },
  {
   "cell_type": "markdown",
   "id": "50bd0f7e-ad1b-4afc-bc4e-0f0a63f62350",
   "metadata": {},
   "source": [
    "Q5. What is inheritance? Give an example for each type of inheritance."
   ]
  },
  {
   "cell_type": "markdown",
   "id": "7cf6f880-0109-42e7-8187-4681dd7813a6",
   "metadata": {},
   "source": [
    "Single inheritance: In single inheritance, a subclass is derived from a single superclass. The subclass inherits all the properties and methods of the superclass."
   ]
  },
  {
   "cell_type": "code",
   "execution_count": 7,
   "id": "fcb25c05-58d5-42ab-b13a-6a267fd99604",
   "metadata": {},
   "outputs": [],
   "source": [
    "class Vehicle:\n",
    "    def __init__(self, make, model, year):\n",
    "        self.make = make\n",
    "        self.model = model\n",
    "        self.year = year\n",
    "\n",
    "class Car(Vehicle):\n",
    "    def __init__(self, make, model, year, num_doors):\n",
    "        super().__init__(make, model, year)\n",
    "        self.num_doors = num_doors\n"
   ]
  },
  {
   "cell_type": "markdown",
   "id": "3df85d12-61db-44c5-853f-7e8d40bc14f4",
   "metadata": {},
   "source": [
    "Multiple inheritance: In multiple inheritance, a subclass is derived from two or more superclasses. The subclass inherits all the properties and methods of both superclasses."
   ]
  },
  {
   "cell_type": "code",
   "execution_count": 8,
   "id": "c8a1169d-ac6c-412f-b042-f83909dc07b1",
   "metadata": {},
   "outputs": [],
   "source": [
    "class Animal:\n",
    "    def __init__(self, name):\n",
    "        self.name = name\n",
    "\n",
    "class CanFly:\n",
    "    def fly(self):\n",
    "        print(\"I can fly!\")\n",
    "\n",
    "class Bird(Animal, CanFly):\n",
    "    def __init__(self, name, color):\n",
    "        super().__init__(name)\n",
    "        self.color = color\n"
   ]
  },
  {
   "cell_type": "markdown",
   "id": "1fa94587-b43e-46b0-af80-b2171f3d26aa",
   "metadata": {},
   "source": [
    "Multi-level inheritance: In multi-level inheritance, a subclass is derived from a superclass, which is itself derived from another superclass. The subclass inherits all the properties and methods of both superclasses."
   ]
  },
  {
   "cell_type": "code",
   "execution_count": 9,
   "id": "394adc91-44e6-4b6f-9ea0-e31631526f35",
   "metadata": {},
   "outputs": [],
   "source": [
    "class Animal:\n",
    "    def __init__(self, name):\n",
    "        self.name = name\n",
    "\n",
    "class Mammal(Animal):\n",
    "    def feed_young(self):\n",
    "        print(\"I feed my young with milk.\")\n",
    "\n",
    "class Cat(Mammal):\n",
    "    def __init__(self, name, color):\n",
    "        super().__init__(name)\n",
    "        self.color = color\n"
   ]
  },
  {
   "cell_type": "code",
   "execution_count": null,
   "id": "fab05435-3cf7-40d6-91d7-196df752e0d8",
   "metadata": {},
   "outputs": [],
   "source": []
  }
 ],
 "metadata": {
  "kernelspec": {
   "display_name": "Python 3 (ipykernel)",
   "language": "python",
   "name": "python3"
  },
  "language_info": {
   "codemirror_mode": {
    "name": "ipython",
    "version": 3
   },
   "file_extension": ".py",
   "mimetype": "text/x-python",
   "name": "python",
   "nbconvert_exporter": "python",
   "pygments_lexer": "ipython3",
   "version": "3.10.8"
  }
 },
 "nbformat": 4,
 "nbformat_minor": 5
}
